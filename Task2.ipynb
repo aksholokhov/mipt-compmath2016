{
 "cells": [
  {
   "cell_type": "markdown",
   "metadata": {},
   "source": [
    "## Задача 2. Шолохов Алексей, 474гр."
   ]
  },
  {
   "cell_type": "code",
   "execution_count": 3,
   "metadata": {
    "collapsed": false
   },
   "outputs": [
    {
     "name": "stdout",
     "output_type": "stream",
     "text": [
      "Populating the interactive namespace from numpy and matplotlib\n"
     ]
    }
   ],
   "source": [
    "import numpy as np\n",
    "%pylab inline"
   ]
  },
  {
   "cell_type": "markdown",
   "metadata": {},
   "source": [
    "Будем решать трехдиогональную систему \n",
    "\n",
    "$\\begin{cases}\n",
    "u_0 = 0 \\\\\n",
    "-u_{n-1}+(2+h^2)u_n - u_{n+1} = 2h^2sin(nh), n \\in [1, N-1] \\\\\n",
    "u_N = 0 \\\\\n",
    "\\end{cases}$\n",
    "\n",
    "где $N = 20$, $h = \\frac{\\pi}{N}$.\n",
    "\n",
    "Использовался классический метод прогонки, все обозначения совпадают с этой статьей:\n",
    "\n",
    "http://e-lib.gasu.ru/eposobia/metody/R_1_3.html"
   ]
  },
  {
   "cell_type": "code",
   "execution_count": 6,
   "metadata": {
    "collapsed": false
   },
   "outputs": [],
   "source": [
    "N = 20\n",
    "u0 = 3\n",
    "from math import pi\n",
    "h = pi/N\n",
    "\n",
    "C = [0] + [-1]*(N-1)\n",
    "D = [2+h**2]*(N)\n",
    "E = [-1]*(N-1) + [0]\n",
    "f = [2*h**2*sin(h*n) for n in range(N)] \n",
    "\n",
    "H1 = [0]\n",
    "H2 = [f[0]/D[0]]\n",
    "for i in range(N-1):\n",
    "    H1.append(-E[i]/(D[i] + C[i+1]*H1[i]))\n",
    "    H2.append((-C[i+1]*H2[i] + f[i])/(D[i] + C[i+1]*H1[i]))\n",
    "    \n",
    "X = [(-E[-1]*H1[-1] + f[-1])/(D[-1] + C[-1]*H1[-1])]\n",
    "\n",
    "for i in reversed(range(N-1)):\n",
    "    X.append(H1[i]*X[N-i-2] + H2[i])"
   ]
  },
  {
   "cell_type": "markdown",
   "metadata": {},
   "source": [
    "Сравним полученное решение $X$ с теоретическим $X' = sin(nh)$. Видно, что они совпадают с неплохой точностью."
   ]
  },
  {
   "cell_type": "code",
   "execution_count": 8,
   "metadata": {
    "collapsed": false,
    "scrolled": true
   },
   "outputs": [
    {
     "data": {
      "text/plain": [
       "<matplotlib.legend.Legend at 0x26df587a748>"
      ]
     },
     "execution_count": 8,
     "metadata": {},
     "output_type": "execute_result"
    },
    {
     "data": {
      "image/png": "[encoded data removed]",
      "text/plain": [
       "<matplotlib.figure.Figure at 0x26df58b2ac8>"
      ]
     },
     "metadata": {},
     "output_type": "display_data"
    }
   ],
   "source": [
    "pylab.plot(list(range(N)), list(reversed(X)), label=\"X\")\n",
    "pylab.plot(list(range(N)), [np.sin(n*h) for n in range(N)], label=\"X'\")\n",
    "pylab.legend()"
   ]
  }
 ],
 "metadata": {
  "kernelspec": {
   "display_name": "Python [Root]",
   "language": "python",
   "name": "Python [Root]"
  },
  "language_info": {
   "codemirror_mode": {
    "name": "ipython",
    "version": 3
   },
   "file_extension": ".py",
   "mimetype": "text/x-python",
   "name": "python",
   "nbconvert_exporter": "python",
   "pygments_lexer": "ipython3",
   "version": "3.5.2"
  }
 },
 "nbformat": 4,
 "nbformat_minor": 0
}
