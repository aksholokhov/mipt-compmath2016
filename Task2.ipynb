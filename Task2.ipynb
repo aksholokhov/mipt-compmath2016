{
 "cells": [
  {
   "cell_type": "markdown",
   "metadata": {},
   "source": [
    "## Задача 2. Шолохов Алексей, 474гр."
   ]
  },
  {
   "cell_type": "code",
   "execution_count": 5,
   "metadata": {
    "collapsed": false
   },
   "outputs": [
    {
     "name": "stdout",
     "output_type": "stream",
     "text": [
      "Populating the interactive namespace from numpy and matplotlib\n"
     ]
    },
    {
     "name": "stderr",
     "output_type": "stream",
     "text": [
      "WARNING: pylab import has clobbered these variables: ['f', 'pi']\n",
      "`%matplotlib` prevents importing * from pylab and numpy\n"
     ]
    }
   ],
   "source": [
    "import numpy as np\n",
    "%pylab inline"
   ]
  },
  {
   "cell_type": "markdown",
   "metadata": {},
   "source": [
    "Будем решать трехдиогональную систему \n",
    "\n",
    "$\\begin{cases}\n",
    "u_0 = 0 \\\\\n",
    "-u_{n-1}+(2+h^2)u_n - u_{n+1} = 2h^2sin(nh), n \\in [1, N-1] \\\\\n",
    "u_N = 0 \\\\\n",
    "\\end{cases}$\n",
    "\n",
    "где $N = 20$, $h = \\frac{\\pi}{N}$.\n",
    "\n",
    "Использовался классический метод прогонки, все обозначения совпадают с этой статьей:\n",
    "\n",
    "http://e-lib.gasu.ru/eposobia/metody/R_1_3.html"
   ]
  },
  {
   "cell_type": "code",
   "execution_count": 65,
   "metadata": {
    "collapsed": false
   },
   "outputs": [],
   "source": [
    "N = 20\n",
    "u0 = 3\n",
    "from math import pi\n",
    "h = pi/N\n",
    "\n",
    "C = [-1]*(N-1) + [0]\n",
    "D = [1] + [2+h**2]*(N-1) + [1]\n",
    "E = [0] + [-1]*(N-1)\n",
    "f = [0] + [2*(h**2)*sin(h*n) for n in range(1, N)] + [0] \n",
    "\n",
    "H1 = [-E[0]/D[0]]\n",
    "H2 = [f[0]/D[0]]\n",
    "for i in range(1, N):\n",
    "    H1.append(-E[i]/(D[i] + C[i-1]*H1[i-1]))\n",
    "    H2.append((-C[i-1]*H2[i-1] + f[i])/(D[i] + C[i-1]*H1[i-1]))\n",
    "    \n",
    "X = [(-C[-1]*H2[-1] + f[-1])/(D[-1] + C[-1]*H1[-1])]\n",
    "\n",
    "for i in reversed(range(N)):\n",
    "    X.append(H1[i]*X[N-i-1] + H2[i])"
   ]
  },
  {
   "cell_type": "markdown",
   "metadata": {},
   "source": [
    "Сравним полученное решение $X$ с теоретическим $X' = sin(nh)$. Видно, что они совпадают почти идеально"
   ]
  },
  {
   "cell_type": "code",
   "execution_count": 66,
   "metadata": {
    "collapsed": false,
    "scrolled": true
   },
   "outputs": [
    {
     "data": {
      "text/plain": [
       "<matplotlib.legend.Legend at 0x16b135180b8>"
      ]
     },
     "execution_count": 66,
     "metadata": {},
     "output_type": "execute_result"
    },
    {
     "data": {
      "image/png": "[encoded data removed]",
      "text/plain": [
       "<matplotlib.figure.Figure at 0x16b134daa90>"
      ]
     },
     "metadata": {},
     "output_type": "display_data"
    }
   ],
   "source": [
    "pylab.plot(list(range(N+1)), list(reversed(X)), label=\"X\")\n",
    "pylab.plot(list(range(N+1)), [np.sin(n*h) for n in range(N+1)], label=\"X'\")\n",
    "pylab.legend()"
   ]
  }
 ],
 "metadata": {
  "anaconda-cloud": {},
  "kernelspec": {
   "display_name": "Python [Root]",
   "language": "python",
   "name": "Python [Root]"
  },
  "language_info": {
   "codemirror_mode": {
    "name": "ipython",
    "version": 3
   },
   "file_extension": ".py",
   "mimetype": "text/x-python",
   "name": "python",
   "nbconvert_exporter": "python",
   "pygments_lexer": "ipython3",
   "version": "3.5.2"
  }
 },
 "nbformat": 4,
 "nbformat_minor": 0
}
