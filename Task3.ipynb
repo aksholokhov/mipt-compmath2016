{
 "cells": [
  {
   "cell_type": "markdown",
   "metadata": {},
   "source": [
    "## Задача 3. Шолохов Алексей, 474гр."
   ]
  },
  {
   "cell_type": "code",
   "execution_count": 1,
   "metadata": {
    "collapsed": false,
    "scrolled": true
   },
   "outputs": [
    {
     "name": "stdout",
     "output_type": "stream",
     "text": [
      "Populating the interactive namespace from numpy and matplotlib\n"
     ]
    }
   ],
   "source": [
    "import numpy as np\n",
    "from numpy import sin, cos, pi\n",
    "from scipy.linalg import lu\n",
    "%pylab inline"
   ]
  },
  {
   "cell_type": "markdown",
   "metadata": {},
   "source": [
    "Решим интегральное уравнение Фредгольма второго рода с помощью квадратурной формулы средней точки. Тогда эта задача сводится к решению системы линейных уравнений вида:\n",
    "\n",
    "$\\sum_{m=1}^n[\\delta_{nm} - \\lambda K_{nm}]u_m = f_n, \\quad n \\in [1, N]$\n",
    "\n",
    "где: $K_{nm} = h^2|n-m|$ - симметричная матрица ядра размером $N \\times N$\n",
    "\n",
    "$h = \\frac{2\\pi}{N}$, $\\delta_{nm}$ - единичная матрица, а $f_n = f(x_n)$, $x_n = -\\pi + (n-\\frac{1}{2})h$\n",
    "\n",
    "$\\lambda = 0.01$, $N = 100$\n",
    "\n",
    "Решим эту систему с помощью $LU$-разложения"
   ]
  },
  {
   "cell_type": "code",
   "execution_count": 14,
   "metadata": {
    "collapsed": false
   },
   "outputs": [],
   "source": [
    "N = 100\n",
    "lamb = 0.01\n",
    "h = 2*pi/N\n",
    "\n",
    "def matrix(n,m):\n",
    "    return -lamb*h**2*np.abs(n-m) + (1 if n==m else 0)\n",
    "\n",
    "def f(x):\n",
    "    return (1+2*lamb)*np.cos(x/2)**2 - lamb*(x**2+pi**2)/2\n",
    "\n",
    "Xn = [-pi + (n-1/2)*h for n in range(1,N+1)]\n",
    "\n",
    "M = [[matrix(n, m) for m in range(1, N+1)] for n in range(1, N+1)]\n",
    "\n",
    "F = [f(x) for x in Xn]\n",
    "\n",
    "def solveLU(M, F):\n",
    "    P, L, U = lu(M)\n",
    "\n",
    "    V = []\n",
    "    for k in range(N):\n",
    "        t = 0\n",
    "        for j in range(k):\n",
    "            t += L[k, j]*V[j]\n",
    "        V.append(F[k] - t)\n",
    "\n",
    "    X = []\n",
    "    for k in reversed(range(N)):\n",
    "        t = 0\n",
    "        for j in range(k+1, N):\n",
    "            t += U[k, j]*X[N-j-1]\n",
    "        X.append((V[k] - t)/U[k, k])\n",
    "    return X\n",
    "\n",
    "X = solveLU(M, F)"
   ]
  },
  {
   "cell_type": "markdown",
   "metadata": {},
   "source": [
    "Сравним $X$ с истинным решением $cos^2\\frac{x}{2}$. Видно, что ошибка решения минимальна до неразличимости."
   ]
  },
  {
   "cell_type": "code",
   "execution_count": 15,
   "metadata": {
    "collapsed": false
   },
   "outputs": [
    {
     "data": {
      "text/plain": [
       "<matplotlib.legend.Legend at 0x23db6ad65c0>"
      ]
     },
     "execution_count": 15,
     "metadata": {},
     "output_type": "execute_result"
    },
    {
     "data": {
      "image/png": "[encoded data removed]",
      "text/plain": [
       "<matplotlib.figure.Figure at 0x23db7cfd940>"
      ]
     },
     "metadata": {},
     "output_type": "display_data"
    }
   ],
   "source": [
    "pylab.plot(range(len(X)), X, label=\"Solution\")\n",
    "pylab.plot(range(len(X)), [cos(-pi/2 + pi*x/100)**2 for x in range(len(X))], label=\"cos^2(x/2)\")\n",
    "pylab.legend()"
   ]
  },
  {
   "cell_type": "markdown",
   "metadata": {},
   "source": [
    "Возмутим правую часть системы случайным вектором $\\delta f_n$ и получим возмущение решения системы $\\delta u_m$. Оценим с помощью этих данных число обусловленности матрицы системы"
   ]
  },
  {
   "cell_type": "code",
   "execution_count": 17,
   "metadata": {
    "collapsed": false
   },
   "outputs": [
    {
     "name": "stdout",
     "output_type": "stream",
     "text": [
      "Mean mu > 5.87\n"
     ]
    }
   ],
   "source": [
    "from scipy.linalg import norm\n",
    "def mu(coef):\n",
    "    delta = coef*np.random.randn(N)\n",
    "    X_noised = solveLU(M, F*delta)\n",
    "    return (norm(array(X_noised) - array(X))/norm(X))/(norm(delta)/norm(F))\n",
    "\n",
    "mues = [mu(0.1) for _ in range(1000)]\n",
    "print(\"Mean mu > %.2f\"%mean(mues))"
   ]
  }
 ],
 "metadata": {
  "anaconda-cloud": {},
  "kernelspec": {
   "display_name": "Python [Root]",
   "language": "python",
   "name": "Python [Root]"
  },
  "language_info": {
   "codemirror_mode": {
    "name": "ipython",
    "version": 3
   },
   "file_extension": ".py",
   "mimetype": "text/x-python",
   "name": "python",
   "nbconvert_exporter": "python",
   "pygments_lexer": "ipython3",
   "version": "3.5.2"
  }
 },
 "nbformat": 4,
 "nbformat_minor": 0
}
