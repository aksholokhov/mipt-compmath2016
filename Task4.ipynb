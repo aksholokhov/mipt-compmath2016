{
 "cells": [
  {
   "cell_type": "markdown",
   "metadata": {},
   "source": [
    "## Задача 4. Шолохов Алексей, 474гр."
   ]
  },
  {
   "cell_type": "code",
   "execution_count": 1,
   "metadata": {
    "collapsed": false
   },
   "outputs": [
    {
     "name": "stdout",
     "output_type": "stream",
     "text": [
      "Populating the interactive namespace from numpy and matplotlib\n"
     ]
    }
   ],
   "source": [
    "import numpy as np\n",
    "from numpy import sin, cos, pi\n",
    "from scipy.linalg import lu\n",
    "%pylab inline"
   ]
  },
  {
   "cell_type": "markdown",
   "metadata": {},
   "source": [
    "Решим интегральное уравнение Фредгольма второго рода с помощью квадратурной формулы средней точки. Тогда эта задача сводится к решению системы линейных уравнений вида:\n",
    "\n",
    "$\\sum_{m=1}^n[\\delta_{nm} - \\lambda K_{nm}]u_m = f_n, \\quad n \\in [1, N]$\n",
    "\n",
    "где: $K_{nm} = h^2|n-m|$ - симметричная матрица ядра размером $N \\times N$\n",
    "\n",
    "$h = \\frac{2\\pi}{N}$, $\\delta_{nm}$ - единичная матрица, а $f_n = f(x_n)$, $x_n = -\\pi + (n-\\frac{1}{2})h$\n",
    "\n",
    "$\\lambda = 0.01$, $N = 100$\n",
    "\n",
    "Решим эту систему методом Зейделя. Сначала зададим систему:"
   ]
  },
  {
   "cell_type": "code",
   "execution_count": 14,
   "metadata": {
    "collapsed": false
   },
   "outputs": [],
   "source": [
    "N = 100\n",
    "lamb = 0.01\n",
    "h = 2*pi/N\n",
    "eps = 10e-6\n",
    "\n",
    "def matrix(n,m):\n",
    "    return -lamb*h**2*np.abs(n-m) + (1 if n==m else 0)\n",
    "\n",
    "def f(x):\n",
    "    return (1+2*lamb)*np.cos(x/2)**2 - lamb*(x**2+pi**2)/2\n",
    "\n",
    "Xn = [-pi + (n-1/2)*h for n in range(1,N+1)]\n",
    "\n",
    "M = [[matrix(n, m) for m in range(1, N+1)] for n in range(1, N+1)]\n",
    "\n",
    "F = [f(x) for x in Xn]"
   ]
  },
  {
   "cell_type": "markdown",
   "metadata": {},
   "source": [
    "Имплементация метода Зейдля совершенно классическая, совпадает с википедией"
   ]
  },
  {
   "cell_type": "code",
   "execution_count": 2,
   "metadata": {
    "collapsed": true
   },
   "outputs": [],
   "source": [
    "def seidel(m, b, eps=10e-6):\n",
    "    n = len(m)\n",
    "    r = range(n)\n",
    "    x = [0 for i in r]\n",
    "    iter_counter = 0\n",
    "    conv = False\n",
    "    while not conv:\n",
    "        p = x.copy()\n",
    "        for i in r:\n",
    "            var = sum(m[i][j] * x[j] for j in range(i))\n",
    "            var += sum(m[i][j] * p[j] for j in range(i+1, n))\n",
    "            x[i] = (b[i] - var) / m[i][i]\n",
    "\n",
    "        conv = sum((x[i]-p[i])**2 for i in r) < eps\n",
    "        iter_counter+=1\n",
    "    return x, iter_counter"
   ]
  },
  {
   "cell_type": "markdown",
   "metadata": {},
   "source": [
    "Видно, что для сходимости при заданной точности методу Зейделя понадобилось всего четыре итерации:"
   ]
  },
  {
   "cell_type": "code",
   "execution_count": 17,
   "metadata": {
    "collapsed": false
   },
   "outputs": [
    {
     "data": {
      "text/plain": [
       "4"
      ]
     },
     "execution_count": 17,
     "metadata": {},
     "output_type": "execute_result"
    }
   ],
   "source": [
    "X, steps = seidel(M, F, eps)\n",
    "steps"
   ]
  },
  {
   "cell_type": "markdown",
   "metadata": {},
   "source": [
    "Сравним $X$ с истинным решением $cos^2\\frac{x}{2}$. Видно, что ошибка решения минимальна до неразличимости."
   ]
  },
  {
   "cell_type": "code",
   "execution_count": 12,
   "metadata": {
    "collapsed": false
   },
   "outputs": [
    {
     "data": {
      "text/plain": [
       "<matplotlib.legend.Legend at 0x13288a97630>"
      ]
     },
     "execution_count": 12,
     "metadata": {},
     "output_type": "execute_result"
    },
    {
     "data": {
      "image/png": "[encoded data removed]",
      "text/plain": [
       "<matplotlib.figure.Figure at 0x13288b3c198>"
      ]
     },
     "metadata": {},
     "output_type": "display_data"
    }
   ],
   "source": [
    "pylab.plot(range(len(X)), X, label=\"Solution\")\n",
    "pylab.plot(range(len(X)), [cos(-pi/2 + pi*x/100)**2 for x in range(len(X))], label=\"cos^2(x/2)\")\n",
    "pylab.legend()"
   ]
  }
 ],
 "metadata": {
  "anaconda-cloud": {},
  "kernelspec": {
   "display_name": "Python [Root]",
   "language": "python",
   "name": "Python [Root]"
  },
  "language_info": {
   "codemirror_mode": {
    "name": "ipython",
    "version": 3
   },
   "file_extension": ".py",
   "mimetype": "text/x-python",
   "name": "python",
   "nbconvert_exporter": "python",
   "pygments_lexer": "ipython3",
   "version": "3.5.2"
  }
 },
 "nbformat": 4,
 "nbformat_minor": 0
}
